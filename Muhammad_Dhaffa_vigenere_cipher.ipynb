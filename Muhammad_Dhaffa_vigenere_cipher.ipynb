{
  "nbformat": 4,
  "nbformat_minor": 0,
  "metadata": {
    "colab": {
      "provenance": [],
      "authorship_tag": "ABX9TyNXEhBWkrPOTMgw9lHvXPDP",
      "include_colab_link": true
    },
    "kernelspec": {
      "name": "python3",
      "display_name": "Python 3"
    },
    "language_info": {
      "name": "python"
    }
  },
  "cells": [
    {
      "cell_type": "markdown",
      "metadata": {
        "id": "view-in-github",
        "colab_type": "text"
      },
      "source": [
        "<a href=\"https://colab.research.google.com/github/dhaffaardhana2002/python-google-colab/blob/master/Muhammad_Dhaffa_vigenere_cipher.ipynb\" target=\"_parent\"><img src=\"https://colab.research.google.com/assets/colab-badge.svg\" alt=\"Open In Colab\"/></a>"
      ]
    },
    {
      "cell_type": "code",
      "execution_count": 3,
      "metadata": {
        "colab": {
          "base_uri": "https://localhost:8080/"
        },
        "id": "8T_YDsCV8x_D",
        "outputId": "53633e57-dce7-4996-a9cd-c96671d24ce7"
      },
      "outputs": [
        {
          "output_type": "stream",
          "name": "stdout",
          "text": [
            "Masukkan kata kunci: kuku\n",
            "Masukkan isi pesan: lalaland\n",
            "\n",
            "Kata kunci = kuku\n",
            "Isi pesan = lalaland\n",
            "Hasil Chipher = onononqq\n"
          ]
        }
      ],
      "source": [
        "def vigenere_cipher(kunci, pesan):\n",
        "\tpesan = pesan.lower()\n",
        "\tpesan = pesan.replace(' ','')\n",
        "\tpanjang_pesan = len(kunci)\n",
        "\n",
        "\tcipher_text = ''\n",
        "\tfor i in range(len(pesan)):\n",
        "\t\thuruf = pesan[i]\n",
        "\t\tk = kunci[i % panjang_pesan]\n",
        "\t\tcipher_text += chr( ( ord(huruf) - 97 + ord(k) ) % 26 + 97)\n",
        "\n",
        "\treturn cipher_text\n",
        "\n",
        "kunci = input('Masukkan kata kunci: ')\n",
        "pesan = input('Masukkan isi pesan: ')\n",
        "\n",
        "print(\"\\nKata kunci = \" + kunci)\n",
        "print(\"Isi pesan = \" + pesan)\n",
        "print(\"Hasil Chipher = \" + vigenere_cipher(kunci, pesan))"
      ]
    }
  ]
}